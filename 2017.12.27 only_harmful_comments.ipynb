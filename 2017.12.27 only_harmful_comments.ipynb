{
 "cells": [
  {
   "cell_type": "code",
   "execution_count": 1,
   "metadata": {
    "collapsed": true
   },
   "outputs": [],
   "source": [
    "import pandas as pd\n",
    "import seaborn as sns\n",
    "from matplotlib import pyplot as plt\n",
    "%matplotlib inline"
   ]
  },
  {
   "cell_type": "code",
   "execution_count": 2,
   "metadata": {},
   "outputs": [
    {
     "data": {
      "text/html": [
       "<div>\n",
       "<style>\n",
       "    .dataframe thead tr:only-child th {\n",
       "        text-align: right;\n",
       "    }\n",
       "\n",
       "    .dataframe thead th {\n",
       "        text-align: left;\n",
       "    }\n",
       "\n",
       "    .dataframe tbody tr th {\n",
       "        vertical-align: top;\n",
       "    }\n",
       "</style>\n",
       "<table border=\"1\" class=\"dataframe\">\n",
       "  <thead>\n",
       "    <tr style=\"text-align: right;\">\n",
       "      <th></th>\n",
       "      <th>id</th>\n",
       "      <th>comment_text</th>\n",
       "      <th>toxic</th>\n",
       "      <th>severe_toxic</th>\n",
       "      <th>obscene</th>\n",
       "      <th>threat</th>\n",
       "      <th>insult</th>\n",
       "      <th>identity_hate</th>\n",
       "    </tr>\n",
       "  </thead>\n",
       "  <tbody>\n",
       "    <tr>\n",
       "      <th>0</th>\n",
       "      <td>22256635</td>\n",
       "      <td>Nonsense?  kiss off, geek. what I said is true...</td>\n",
       "      <td>1</td>\n",
       "      <td>0</td>\n",
       "      <td>0</td>\n",
       "      <td>0</td>\n",
       "      <td>0</td>\n",
       "      <td>0</td>\n",
       "    </tr>\n",
       "    <tr>\n",
       "      <th>1</th>\n",
       "      <td>225701312</td>\n",
       "      <td>Why hasn't Alitalia been removed rom the allia...</td>\n",
       "      <td>1</td>\n",
       "      <td>0</td>\n",
       "      <td>0</td>\n",
       "      <td>0</td>\n",
       "      <td>0</td>\n",
       "      <td>0</td>\n",
       "    </tr>\n",
       "    <tr>\n",
       "      <th>2</th>\n",
       "      <td>293668009</td>\n",
       "      <td>\"\\nThe Graceful Slick....\\nIs non other than a...</td>\n",
       "      <td>1</td>\n",
       "      <td>0</td>\n",
       "      <td>0</td>\n",
       "      <td>0</td>\n",
       "      <td>0</td>\n",
       "      <td>0</td>\n",
       "    </tr>\n",
       "    <tr>\n",
       "      <th>3</th>\n",
       "      <td>341549388</td>\n",
       "      <td>\"\\n\\n Stupid? \\n\\nAs soon as I saw the phrase ...</td>\n",
       "      <td>1</td>\n",
       "      <td>0</td>\n",
       "      <td>0</td>\n",
       "      <td>0</td>\n",
       "      <td>0</td>\n",
       "      <td>0</td>\n",
       "    </tr>\n",
       "    <tr>\n",
       "      <th>4</th>\n",
       "      <td>345843351</td>\n",
       "      <td>\"\\nBan one side of an argument by a bullshit n...</td>\n",
       "      <td>1</td>\n",
       "      <td>0</td>\n",
       "      <td>1</td>\n",
       "      <td>0</td>\n",
       "      <td>1</td>\n",
       "      <td>0</td>\n",
       "    </tr>\n",
       "  </tbody>\n",
       "</table>\n",
       "</div>"
      ],
      "text/plain": [
       "          id                                       comment_text  toxic  \\\n",
       "0   22256635  Nonsense?  kiss off, geek. what I said is true...      1   \n",
       "1  225701312  Why hasn't Alitalia been removed rom the allia...      1   \n",
       "2  293668009  \"\\nThe Graceful Slick....\\nIs non other than a...      1   \n",
       "3  341549388  \"\\n\\n Stupid? \\n\\nAs soon as I saw the phrase ...      1   \n",
       "4  345843351  \"\\nBan one side of an argument by a bullshit n...      1   \n",
       "\n",
       "   severe_toxic  obscene  threat  insult  identity_hate  \n",
       "0             0        0       0       0              0  \n",
       "1             0        0       0       0              0  \n",
       "2             0        0       0       0              0  \n",
       "3             0        0       0       0              0  \n",
       "4             0        1       0       1              0  "
      ]
     },
     "execution_count": 2,
     "metadata": {},
     "output_type": "execute_result"
    }
   ],
   "source": [
    "toxic_comments = pd.read_csv('toxic_comments.csv')\n",
    "toxic_comments.head()"
   ]
  },
  {
   "cell_type": "code",
   "execution_count": 3,
   "metadata": {},
   "outputs": [
    {
     "name": "stdout",
     "output_type": "stream",
     "text": [
      "toxic comments = 9237\n",
      "not toxic comments = 553\n"
     ]
    },
    {
     "data": {
      "image/png": "[encoded data removed]",
      "text/plain": [
       "<matplotlib.figure.Figure at 0x10e0b30b8>"
      ]
     },
     "metadata": {},
     "output_type": "display_data"
    },
    {
     "name": "stdout",
     "output_type": "stream",
     "text": [
      "severe_toxic comments = 965\n",
      "not severe_toxic comments = 8825\n"
     ]
    },
    {
     "data": {
      "image/png": "[encoded data removed]",
      "text/plain": [
       "<matplotlib.figure.Figure at 0x10e0e7748>"
      ]
     },
     "metadata": {},
     "output_type": "display_data"
    },
    {
     "name": "stdout",
     "output_type": "stream",
     "text": [
      "obscene comments = 5109\n",
      "not obscene comments = 4681\n"
     ]
    },
    {
     "data": {
      "image/png": "[encoded data removed]",
      "text/plain": [
       "<matplotlib.figure.Figure at 0x10e395eb8>"
      ]
     },
     "metadata": {},
     "output_type": "display_data"
    },
    {
     "name": "stdout",
     "output_type": "stream",
     "text": [
      "threat comments = 305\n",
      "not threat comments = 9485\n"
     ]
    },
    {
     "data": {
      "image/png": "[encoded data removed]",
      "text/plain": [
       "<matplotlib.figure.Figure at 0x10e46fb00>"
      ]
     },
     "metadata": {},
     "output_type": "display_data"
    },
    {
     "name": "stdout",
     "output_type": "stream",
     "text": [
      "insult comments = 4765\n",
      "not insult comments = 5025\n"
     ]
    },
    {
     "data": {
      "image/png": "[encoded data removed]",
      "text/plain": [
       "<matplotlib.figure.Figure at 0x10e51ce48>"
      ]
     },
     "metadata": {},
     "output_type": "display_data"
    },
    {
     "name": "stdout",
     "output_type": "stream",
     "text": [
      "identity_hate comments = 814\n",
      "not identity_hate comments = 8976\n"
     ]
    },
    {
     "data": {
      "image/png": "[encoded data removed]",
      "text/plain": [
       "<matplotlib.figure.Figure at 0x10e52a1d0>"
      ]
     },
     "metadata": {},
     "output_type": "display_data"
    }
   ],
   "source": [
    "sns.countplot(toxic_comments['toxic'])\n",
    "print ('toxic comments = {}'.format(len(toxic_comments[toxic_comments['toxic']==1])))\n",
    "print ('not toxic comments = {}'.format(len(toxic_comments[toxic_comments['toxic']==0])))\n",
    "plt.show()\n",
    "sns.countplot(toxic_comments['severe_toxic'])\n",
    "print ('severe_toxic comments = {}'.format(len(toxic_comments[toxic_comments['severe_toxic']==1])))\n",
    "print ('not severe_toxic comments = {}'.format(len(toxic_comments[toxic_comments['severe_toxic']==0])))\n",
    "plt.show()\n",
    "sns.countplot(toxic_comments['obscene'])\n",
    "print ('obscene comments = {}'.format(len(toxic_comments[toxic_comments['obscene']==1])))\n",
    "print ('not obscene comments = {}'.format(len(toxic_comments[toxic_comments['obscene']==0])))\n",
    "plt.show()\n",
    "sns.countplot(toxic_comments['threat'])\n",
    "print ('threat comments = {}'.format(len(toxic_comments[toxic_comments['threat']==1])))\n",
    "print ('not threat comments = {}'.format(len(toxic_comments[toxic_comments['threat']==0])))\n",
    "plt.show()\n",
    "sns.countplot(toxic_comments['insult'])\n",
    "print ('insult comments = {}'.format(len(toxic_comments[toxic_comments['insult']==1])))\n",
    "print ('not insult comments = {}'.format(len(toxic_comments[toxic_comments['insult']==0])))\n",
    "plt.show()\n",
    "sns.countplot(toxic_comments['identity_hate'])\n",
    "print ('identity_hate comments = {}'.format(len(toxic_comments[toxic_comments['identity_hate']==1])))\n",
    "print ('not identity_hate comments = {}'.format(len(toxic_comments[toxic_comments['identity_hate']==0])))\n",
    "plt.show()"
   ]
  },
  {
   "cell_type": "code",
   "execution_count": 4,
   "metadata": {},
   "outputs": [
    {
     "name": "stdout",
     "output_type": "stream",
     "text": [
      "while being toxic,\n",
      "the rate of being severe_toxic also is 10.45 %\n",
      "the rate of not being severe_toxic is 89.55 %\n",
      "\n",
      "the rate of being obscene also is 51.93 %, around fifty % rate!!!!\n",
      "the rate of not being obscene is 48.07 %\n",
      "\n",
      "the rate of being threat also is 3.13 %\n",
      "the rate of not being threat is 96.87 %\n",
      "\n",
      "the rate of being insult also is 48.12 %, around fifty % rate!!!!\n",
      "the rate of not being insult is 51.88 %\n",
      "\n",
      "the rate of being identity_hate also is 8.13 %\n",
      "the rate of not being identity_hate is 91.87 %\n",
      "\n",
      "------------------------------------------------------------\n",
      "while being severe_toxic,\n",
      "the rate of being toxic also is 100.00 %, very high rate!!!!\n",
      "the rate of not being toxic is 0.00 %\n",
      "\n",
      "the rate of being obscene also is 95.44 %, very high rate!!!!\n",
      "the rate of not being obscene is 4.56 %\n",
      "\n",
      "the rate of being threat also is 7.77 %\n",
      "the rate of not being threat is 92.23 %\n",
      "\n",
      "the rate of being insult also is 86.32 %, very high rate!!!!\n",
      "the rate of not being insult is 13.68 %\n",
      "\n",
      "the rate of being identity_hate also is 18.45 %\n",
      "the rate of not being identity_hate is 81.55 %\n",
      "\n",
      "------------------------------------------------------------\n",
      "while being obscene,\n",
      "the rate of being toxic also is 93.89 %, very high rate!!!!\n",
      "the rate of not being toxic is 6.11 %\n",
      "\n",
      "the rate of being severe_toxic also is 18.03 %\n",
      "the rate of not being severe_toxic is 81.97 %\n",
      "\n",
      "the rate of being threat also is 3.88 %\n",
      "the rate of not being threat is 96.12 %\n",
      "\n",
      "the rate of being insult also is 73.18 %, high rate!!!!\n",
      "the rate of not being insult is 26.82 %\n",
      "\n",
      "the rate of being identity_hate also is 11.98 %\n",
      "the rate of not being identity_hate is 88.02 %\n",
      "\n",
      "------------------------------------------------------------\n",
      "while being threat,\n",
      "the rate of being toxic also is 94.75 %, very high rate!!!!\n",
      "the rate of not being toxic is 5.25 %\n",
      "\n",
      "the rate of being severe_toxic also is 24.59 %\n",
      "the rate of not being severe_toxic is 75.41 %\n",
      "\n",
      "the rate of being obscene also is 64.92 %, somewhate high rate!!!!\n",
      "the rate of not being obscene is 35.08 %\n",
      "\n",
      "the rate of being insult also is 65.57 %, somewhate high rate!!!!\n",
      "the rate of not being insult is 34.43 %\n",
      "\n",
      "the rate of being identity_hate also is 20.98 %\n",
      "the rate of not being identity_hate is 79.02 %\n",
      "\n",
      "------------------------------------------------------------\n",
      "while being insult,\n",
      "the rate of being toxic also is 93.28 %, very high rate!!!!\n",
      "the rate of not being toxic is 6.72 %\n",
      "\n",
      "the rate of being severe_toxic also is 17.48 %\n",
      "the rate of not being severe_toxic is 82.52 %\n",
      "\n",
      "the rate of being obscene also is 78.47 %, high rate!!!!\n",
      "the rate of not being obscene is 21.53 %\n",
      "\n",
      "the rate of being threat also is 4.20 %\n",
      "the rate of not being threat is 95.80 %\n",
      "\n",
      "the rate of being identity_hate also is 14.17 %\n",
      "the rate of not being identity_hate is 85.83 %\n",
      "\n",
      "------------------------------------------------------------\n",
      "while being identity_hate,\n",
      "the rate of being toxic also is 92.26 %, very high rate!!!!\n",
      "the rate of not being toxic is 7.74 %\n",
      "\n",
      "the rate of being severe_toxic also is 21.87 %\n",
      "the rate of not being severe_toxic is 78.13 %\n",
      "\n",
      "the rate of being obscene also is 75.18 %, high rate!!!!\n",
      "the rate of not being obscene is 24.82 %\n",
      "\n",
      "the rate of being threat also is 7.86 %\n",
      "the rate of not being threat is 92.14 %\n",
      "\n",
      "the rate of being insult also is 82.92 %, very high rate!!!!\n",
      "the rate of not being insult is 17.08 %\n",
      "\n",
      "------------------------------------------------------------\n"
     ]
    }
   ],
   "source": [
    "x = ['toxic','severe_toxic','obscene','threat','insult','identity_hate']\n",
    "for i in x:\n",
    "    #print ('# of {} ='.format(i), len(toxic_comments[toxic_comments[i]== 1]))\n",
    "    print ('while being {},'.format(i))\n",
    "    for j in x:\n",
    "        temp0 = len(toxic_comments[toxic_comments[i]==1])\n",
    "        temp = toxic_comments[toxic_comments[i]==1]\n",
    "        if i == j:\n",
    "            continue\n",
    "        else:\n",
    "            temp1 = len(temp[temp[j]==1])\n",
    "            temp2 = len(temp[temp[j]==0])\n",
    "            rate_1 = temp1/temp0*100\n",
    "            rate_2 = temp2/temp0*100\n",
    "            if rate_1 > 80:\n",
    "                print ('the rate of being {} also'.format(j),'is %.2f'%rate_1,'%, very high rate!!!!')\n",
    "            elif rate_1 >70:\n",
    "                print ('the rate of being {} also'.format(j),'is %.2f'%rate_1,'%, high rate!!!!')\n",
    "            elif rate_1 >= 53:\n",
    "                print ('the rate of being {} also'.format(j),'is %.2f'%rate_1,'%, somewhate high rate!!!!')\n",
    "            elif 47 < rate_1 < 53:\n",
    "                print ('the rate of being {} also'.format(j),'is %.2f'%rate_1,'%, around fifty % rate!!!!')\n",
    "            else:\n",
    "                print ('the rate of being {} also'.format(j),'is %.2f'%rate_1,'%')\n",
    "            print ('the rate of not being {}'.format(j),'is %.2f'%rate_2,'%')\n",
    "            print ()\n",
    "    print ('-'*60)"
   ]
  },
  {
   "cell_type": "markdown",
   "metadata": {},
   "source": [
    "with the probabilities calculated above,\n",
    "we can use the 'likely to be ~ while being ~' rate to better predict other feature status for our testset"
   ]
  },
  {
   "cell_type": "code",
   "execution_count": 10,
   "metadata": {},
   "outputs": [
    {
     "data": {
      "text/plain": [
       "<matplotlib.axes._subplots.AxesSubplot at 0x10fe6e9e8>"
      ]
     },
     "execution_count": 10,
     "metadata": {},
     "output_type": "execute_result"
    },
    {
     "data": {
      "image/png": "[encoded data removed]",
      "text/plain": [
       "<matplotlib.figure.Figure at 0x10e57fd68>"
      ]
     },
     "metadata": {},
     "output_type": "display_data"
    }
   ],
   "source": [
    "temp_df=toxic_comments.iloc[:,2:-1]\n",
    "corr=temp_df.corr()\n",
    "plt.figure(figsize=(15,10))\n",
    "sns.heatmap(corr,\n",
    "            xticklabels=corr.columns.values,\n",
    "            yticklabels=corr.columns.values, annot=True)"
   ]
  },
  {
   "cell_type": "code",
   "execution_count": 12,
   "metadata": {
    "collapsed": true
   },
   "outputs": [],
   "source": [
    "comments_toxic = toxic_comments[toxic_comments['toxic']==1]"
   ]
  },
  {
   "cell_type": "code",
   "execution_count": 17,
   "metadata": {
    "collapsed": true
   },
   "outputs": [],
   "source": [
    "comments_toxic_severe = comments_toxic[comments_toxic['severe_toxic']==1]\n",
    "comments_toxic_severe_obscene = comments_toxic_severe[comments_toxic_severe['obscene']==1]\n",
    "comments_toxic_severe_obscene_insult = comments_toxic_severe_obscene[comments_toxic_severe_obscene['insult']==1]"
   ]
  },
  {
   "cell_type": "code",
   "execution_count": 19,
   "metadata": {
    "collapsed": true
   },
   "outputs": [],
   "source": [
    "comments_toxic_severe_obscene_insult_threat = comments_toxic_severe_obscene_insult[comments_toxic_severe_obscene_insult['threat']==1]"
   ]
  },
  {
   "cell_type": "code",
   "execution_count": 21,
   "metadata": {
    "collapsed": true
   },
   "outputs": [],
   "source": [
    "comments_all_1 = comments_toxic_severe_obscene_insult_threat[comments_toxic_severe_obscene_insult_threat['identity_hate']==1]"
   ]
  },
  {
   "cell_type": "code",
   "execution_count": 27,
   "metadata": {},
   "outputs": [
    {
     "name": "stdout",
     "output_type": "stream",
     "text": [
      "You're a stupid cunt \n",
      "\n",
      "Fuck you dumb arse, your mum has a hairy cunt and I hope and pray that you die, no, fuck that, I wish you would die, if I had three wishes, one of them would be to have you dead, and the others would be so that everyone you knew hated your cunt like face.\n",
      "Eat shit you fucking arse rapping jew fucking arab. I'LL KILL YOU!!!!!!!!!!!!!!!!!!!!!!!!!!!!!!!!1\n",
      "ANYONE WHO SUPPORTS THIS IS FUCKING SICK. MEN AND UNDERAGED FUCKING KIDS?????????????????????????????? WHAT IN THE FUCK YOU ALL SHOULD BE SHOT AND KILLED YOU BUNCH OF FUCKING FAGGOT PEDOPHILES\n",
      "\n",
      "DIE DIE DIE DIE DI EDIE DIE DIE DIE DIE\n",
      "\n",
      "DIE DIE DIE DIE DI EDIE DIE DIE DIE DIE\n",
      "\n",
      "DIE DIE DIE DIE DI EDIE DIE DIE DIE DIE\n",
      "\n",
      "DIE DIE DIE DIE DI EDIE DIE DIE DIE DIE\n",
      "\n",
      "DIE DIE DIE DIE DI EDIE DIE DIE DIE DIE\n",
      "\n",
      "DIE DIE DIE DIE DI EDIE DIE DIE DIE DIE\n",
      "\n",
      "DIE DIE DIE DIE DI EDIE DIE DIE DIE DIE\n",
      "\n",
      "DIE DIE DIE DIE DI EDIE DIE DIE DIE DIE\n",
      "\n",
      "DIE DIE DIE DIE DI EDIE DIE DIE DIE DIE\n",
      "\n",
      "DIE DIE DIE DIE DI EDIE DIE DIE DIE DIE\n",
      "\n",
      "DIE DIE DIE DIE DI EDIE DIE DIE DIE DIE\n",
      "\n",
      "DIE DIE DIE DIE DI EDIE DIE DIE DIE DIE\n",
      "\n",
      "DIE DIE DIE DIE DI EDIE DIE DIE DIE DIE\n",
      "\n",
      "DIE DIE DIE DIE DI EDIE DIE DIE DIE DIE\n",
      "\n",
      "DIE DIE DIE DIE DI EDIE DIE DIE DIE DIE\n",
      "\n",
      "DIE DIE DIE DIE DI EDIE DIE DIE DIE DIE\n",
      "\n",
      "DIE DIE DIE DIE DI EDIE DIE DIE DIE DIE\n",
      "\n",
      "DIE DIE DIE DIE DI EDIE DIE DIE DIE DIE\n",
      "\n",
      "DIE DIE DIE DIE DI EDIE DIE DIE DIE DIE\n",
      "\n",
      "DIE DIE DIE DIE DI EDIE DIE DIE DIE DIE\n",
      "\n",
      "DIE DIE DIE DIE DI EDIE DIE DIE DIE DIE\n",
      "\n",
      "DIE DIE DIE DIE DI EDIE DIE DIE DIE DIE\n",
      "DIE DIE DIE DIE DI EDIE DIE DIE DIE DIE\n",
      "\n",
      "DIE DIE DIE DIE DI EDIE DIE DIE DIE DIE\n",
      "\n",
      "DIE DIE DIE DIE DI EDIE DIE DIE DIE DIE\n",
      "\n",
      "DIE DIE DIE DIE DI EDIE DIE DIE DIE DIE\n",
      "\n",
      "DIE DIE DIE DIE DI EDIE DIE DIE DIE DIE\n",
      "\n",
      "DIE DIE DIE DIE DI EDIE DIE DIE DIE DIE\n",
      "\n",
      "DIE DIE DIE DIE DI EDIE DIE DIE DIE DIE\n",
      "\n",
      "DIE DIE DIE DIE DI EDIE DIE DIE DIE DIE\n",
      "\n",
      "DIE DIE DIE DIE DI EDIE DIE DIE DIE DIE\n",
      "\n",
      "DIE DIE DIE DIE DI EDIE DIE DIE DIE DIE\n",
      "\n",
      "DIE DIE DIE DIE DI EDIE DIE DIE DIE DIE\n",
      "\n",
      "DIE DIE DIE DIE DI EDIE DIE DIE DIE DIE\n",
      "\n",
      "DIE DIE DIE DIE DI EDIE DIE DIE DIE DIE\n",
      "\n",
      "DIE DIE DIE DIE DI EDIE DIE DIE DIE DIE\n",
      "\n",
      "DIE DIE DIE DIE DI EDIE DIE DIE DIE DIE\n",
      "\n",
      "DIE DIE DIE DIE DI EDIE DIE DIE DIE DIE\n",
      "\n",
      "DIE DIE DIE DIE DI EDIE DIE DIE DIE DIE\n",
      "\n",
      "DIE DIE DIE DIE DI EDIE DIE DIE DIE DIE\n",
      "\n",
      "DIE DIE DIE DIE DI EDIE DIE DIE DIE DIE\n",
      "\n",
      "DIE DIE DIE DIE DI EDIE DIE DIE DIE DIE\n",
      "\n",
      "DIE DIE DIE DIE DI EDIE DIE DIE DIE DIE\n",
      "\n",
      "DIE DIE DIE DIE DI EDIE DIE DIE DIE DIE\n",
      "DIE DIE DIE DIE DI EDIE DIE DIE DIE DIE\n",
      "\n",
      "DIE DIE DIE DIE DI EDIE DIE DIE DIE DIE\n",
      "\n",
      "DIE DIE DIE DIE DI EDIE DIE DIE DIE DIE\n",
      "\n",
      "DIE DIE DIE DIE DI EDIE DIE DIE DIE DIE\n",
      "\n",
      "DIE DIE DIE DIE DI EDIE DIE DIE DIE DIE\n",
      "\n",
      "DIE DIE DIE DIE DI EDIE DIE DIE DIE DIE\n",
      "\n",
      "DIE DIE DIE DIE DI EDIE DIE DIE DIE DIE\n",
      "\n",
      "DIE DIE DIE DIE DI EDIE DIE DIE DIE DIE\n",
      "\n",
      "DIE DIE DIE DIE DI EDIE DIE DIE DIE DIE\n",
      "\n",
      "DIE DIE DIE DIE DI EDIE DIE DIE DIE DIE\n",
      "\n",
      "DIE DIE DIE DIE DI EDIE DIE DIE DIE DIE\n",
      "\n",
      "DIE DIE DIE DIE DI EDIE DIE DIE DIE DIE\n",
      "\n",
      "DIE DIE DIE DIE DI EDIE DIE DIE DIE DIE\n",
      "\n",
      "DIE DIE DIE DIE DI EDIE DIE DIE DIE DIE\n",
      "\n",
      "DIE DIE DIE DIE DI EDIE DIE DIE DIE DIE\n",
      "\n",
      "DIE DIE DIE DIE DI EDIE DIE DIE DIE DIE\n",
      "\n",
      "DIE DIE DIE DIE DI EDIE DIE DIE DIE DIE\n",
      "\n",
      "DIE DIE DIE DIE DI EDIE DIE DIE DIE DIE\n",
      "\n",
      "DIE DIE DIE DIE DI EDIE DIE DIE DIE DIE\n",
      "\n",
      "DIE DIE DIE DIE DI EDIE DIE DIE DIE DIE\n",
      "\n",
      "DIE DIE DIE DIE DI EDIE DIE DIE DIE DIE\n",
      "\n",
      "DIE DIE DIE DIE DI EDIE DIE DIE DIE DIE\n",
      "DIE DIE DIE DIE DI EDIE DIE DIE DIE DIE\n",
      "\n",
      "DIE DIE DIE DIE DI EDIE DIE DIE DIE DIE\n",
      "\n",
      "DIE DIE DIE DIE DI EDIE DIE DIE DIE DIE\n",
      "\n",
      "DIE DIE DIE DIE DI EDIE DIE DIE DIE DIE\n",
      "\n",
      "DIE DIE DIE DIE DI EDIE DIE DIE DIE DIE\n",
      "\n",
      "DIE DIE DIE DIE DI EDIE DIE DIE DIE DIE\n",
      "\n",
      "DIE DIE DIE DIE DI EDIE DIE DIE DIE DIE\n",
      "\n",
      "DIE DIE DIE DIE DI EDIE DIE DIE DIE DIE\n",
      "\n",
      "DIE DIE DIE DIE DI EDIE DIE DIE DIE DIE\n",
      "\n",
      "DIE DIE DIE DIE DI EDIE DIE DIE DIE DIE\n",
      "\n",
      "DIE DIE DIE DIE DI EDIE DIE DIE DIE DIE\n",
      "\n",
      "DIE DIE DIE DIE DI EDIE DIE DIE DIE DIE\n",
      "\n",
      "DIE DIE DIE DIE DI EDIE DIE DIE DIE DIE\n",
      "\n",
      "DIE DIE DIE DIE DI EDIE DIE DIE DIE DIE\n",
      "\n",
      "DIE DIE DIE DIE DI EDIE DIE DIE DIE DIE\n",
      "\n",
      "DIE DIE DIE DIE DI EDIE DIE DIE DIE DIE\n",
      "\n",
      "DIE DIE DIE DIE DI EDIE DIE DIE DIE DIE\n",
      "\n",
      "DIE DIE DIE DIE DI EDIE DIE DIE DIE DIE\n",
      "\n",
      "DIE DIE DIE DIE DI EDIE DIE DIE DIE DIE\n",
      "\n",
      "DIE DIE DIE DIE DI EDIE DIE DIE DIE DIE\n",
      "\n",
      "DIE DIE DIE DIE DI EDIE DIE DIE DIE DIE\n",
      "\n",
      "DIE DIE DIE DIE DI EDIE DIE DIE DIE DIE\n",
      "\n",
      "DIE DIE DIE DIE DI EDIE DIE DIE DIE DIE\n",
      "\n",
      "DIE DIE DIE DIE DI EDIE DIE DIE DIE DIENEW\n",
      "u motherfukkin bitch i want to rape you smelly whore stop fucking blocking my account or ill get my nigga homies to came and kidnap and rape you and your family\n",
      "GO FUCK YOURSELF BITCH.  I HATE YOUR SOULD.  MOTHER FUCKER, WHO THE HELL DO YOU THINK YOU ARE.  I WILL STOMP ON YOUR NECK UNTIL YOU FUCKING DIE.  DO YOU HEAR ME, EVERY TIME YOU MAKE A CHANGE, A KITTEN WILL DIE.  GO TO FUCKING HELL YOU FUCKING FAGGOT JEW FUCK.\n",
      "FAGGOTS!  YO FUCKER IT WAS FUCKING HAYES YOU FAGGOT, NOT VITO.  VITO WASNT WITH WWE IN 2004 YOU FUCKING FAG.  FAG, YOU ARENT RIGHT GO FUCKING JUMP OFF A BRIDGE YOU FAG\n",
      "Bitch \n",
      "\n",
      "You are a little bitch. I fuckin spent 6 hours on big sam (rapper) an you call it fuckin vandolism, hard ass aint you, fuck you i'm makin a true ass page an you wack off an delete my page. What the fuck is up, your like a snitch but to yourself. I'll fuckin edit your bitch ass page an delete that shit. I'll fuck up every single thing on your gay ass website if you keep deletin my ass. Wanna talk to me, IM me at GuttyBoy3D or email me at GuttyBoy3D@aol.com\n",
      "FUCK YOU!!!!!!!!!!!! YOU FUCKING NIGGER BAG OF SHIT I HOPE YOU DIE IN A HORRIBLE FIRE WITH YOUR GAY ASS KIDS I WILL SLIT THEIR THROAT YOU MOTHERFUCKER DONT YOU EVER THINK OF BANNING ME AGAIN OR I WILL RAPE YOU ANALLY!!!!!\n",
      "I hit a jack off all day, after the rape my mother, destroy the vagina until it hurts, then when you start bleeding I start to have sex with the mother of you Americans motherfuckers\n",
      "\n",
      "They give the anus and the vagina every day for free, I'll sing a piece of music of Brazil who have money who slips into the vagina is not you jack off 10 year old girl already has at the vagina\n",
      "\n",
      "The Brazilian soccer team is the best in the world humbles Americans\n",
      "\n",
      "I get a boner from hell just eat your mother, that once again put out my articles you sons of bitches\n",
      "\n",
      "vagina of mother north americans\n",
      "fuck you honkey, why you hatin' on blacks? You fucking pussy geek nazi, I'll come to your house and rape your mom because I've got a big black dick in her tight white ass, honkey\n",
      "Help! \n",
      "\n",
      "If you become an admin, I will fuckin find ya then fuckin kill ya because you are a gross, fuckin homosexual who doesn't deserve the upgrade.\n",
      "I am going to murder ZimZalaBim ST47 for being evil homosexual jews.\n",
      "WOULDN'T BE THE FIRST TIME BITCH. FUCK YOU I'LL FIND OUT WHERE YOU LIVE, SODOMIZE YOUR WIFE AND THEN BURN YOUR HOUSE DOWN. FUCK YOU YOU FUCKING QUEER.\n",
      "SHUT UP, YOU FAT POOP, OR I WILL KICK YOUR ASS!!!\n",
      "So fuck off and die, rape fantasising sluts\n",
      "Fuck All Asyriac Nation \n",
      "\n",
      "Qamishli belong to Arminian and we will fuck all Asyriac people if they will said no.\n",
      "Shut up you asswipe, we don't care. I'll decapitate your mother and shit down her(his?) neck. Go back to Jewland you fuck. \n",
      "\n",
      "http://en.wikipedia.org/wiki/The_Real_Stephen_Hawkinghttp://en.wikipedia.org/wiki/The_Real_Stephen_Hawkinghttp://en.wikipedia.org/wiki/The_Real_Stephen_Hawkinghttp://en.wikipedia.org/wiki/The_Real_Stephen_Hawkinghttp://en.wikipedia.org/wiki/The_Real_Stephen_Hawkinghttp://en.wikipedia.org/wiki/The_Real_Stephen_Hawkinghttp://en.wikipedia.org/wiki/The_Real_Stephen_Hawkinghttp://en.wikipedia.org/wiki/The_Real_Stephen_Hawkinghttp://en.wikipedia.org/wiki/The_Real_Stephen_Hawkinghttp://en.wikipedia.org/wiki/The_Real_Stephen_Hawkinghttp://en.wikipedia.org/wiki/The_Real_Stephen_Hawkinghttp://en.wikipedia.org/wiki/The_Real_Stephen_Hawkinghttp://en.wikipedia.org/wiki/The_Real_Stephen_Hawkinghttp://en.wikipedia.org/wiki/The_Real_Stephen_Hawkinghttp://en.wikipedia.org/wiki/The_Real_Stephen_Hawkinghttp://en.wikipedia.org/wiki/The_Real_Stephen_Hawkinghttp://en.wikipedia.org/wiki/The_Real_Stephen_Hawkinghttp://en.wikipedia.org/wiki/The_Real_Stephen_Hawkinghttp://en.wikipedia.org/wiki/The_Real_Stephen_Hawkinghttp://en.wikipedia.org/wiki/The_Real_Stephen_Hawkinghttp://en.wikipedia.org/wiki/The_Real_Stephen_Hawkinghttp://en.wikipedia.org/wiki/The_Real_Stephen_Hawkinghttp://en.wikipedia.org/wiki/The_Real_Stephen_Hawkinghttp://en.wikipedia.org/wiki/The_Real_Stephen_Hawkinghttp://en.wikipedia.org/wiki/The_Real_Stephen_Hawkinghttp://en.wikipedia.org/wiki/The_Real_Stephen_Hawkinghttp://en.wikipedia.org/wiki/The_Real_Stephen_Hawkinghttp://en.wikipedia.org/wiki/The_Real_Stephen_Hawkinghttp://en.wikipedia.org/wiki/The_Real_Stephen_Hawkinghttp://en.wikipedia.org/wiki/The_Real_Stephen_Hawkinghttp://en.wikipedia.org/wiki/The_Real_Stephen_Hawkinghttp://en.wikipedia.org/wiki/The_Real_Stephen_Hawkinghttp://en.wikipedia.org/wiki/The_Real_Stephen_Hawkinghttp://en.wikipedia.org/wiki/The_Real_Stephen_Hawkinghttp://en.wikipedia.org/wiki/The_Real_Stephen_Hawkinghttp://en.wikipedia.org/wiki/The_Real_Stephen_Hawkinghttp://en.wikipedia.org/wiki/The_Real_Stephen_Hawkinghttp://en.wikipedia.org/wiki/The_Real_Stephen_Hawkinghttp://en.wikipedia.org/wiki/The_Real_Stephen_Hawkinghttp://en.wikipedia.org/wiki/The_Real_Stephen_Hawkinghttp://en.wikipedia.org/wiki/The_Real_Stephen_Hawkinghttp://en.wikipedia.org/wiki/The_Real_Stephen_Hawkinghttp://en.wikipedia.org/wiki/The_Real_Stephen_Hawkinghttp://en.wikipedia.org/wiki/The_Real_Stephen_Hawkinghttp://en.wikipedia.org/wiki/The_Real_Stephen_Hawkinghttp://en.wikipedia.org/wiki/The_Real_Stephen_Hawkinghttp://en.wikipedia.org/wiki/The_Real_Stephen_Hawkinghttp://en.wikipedia.org/wiki/The_Real_Stephen_Hawkinghttp://en.wikipedia.org/wiki/The_Real_Stephen_Hawkinghttp://en.wikipedia.org/wiki/The_Real_Stephen_Hawkinghttp://en.wikipedia.org/wiki/The_Real_Stephen_Hawkinghttp://en.wikipedia.org/wiki/The_Real_Stephen_Hawkinghttp://en.wikipedia.org/wiki/The_Real_Stephen_Hawkinghttp://en.wikipedia.org/wiki/The_Real_Stephen_Hawkinghttp://en.wikipedia.org/wiki/The_Real_Stephen_Hawkinghttp://en.wikipedia.org/wiki/The_Real_Stephen_Hawkinghttp://en.wikipedia.org/wiki/The_Real_Stephen_Hawkinghttp://en.wikipedia.org/wiki/The_Real_Stephen_Hawkinghttp://en.wikipedia.org/wiki/The_Real_Stephen_Hawkinghttp://en.wikipedia.org/wiki/The_Real_Stephen_Hawkinghttp://en.wikipedia.org/wiki/The_Real_Stephen_Hawkinghttp://en.wikipedia.org/wiki/The_Real_Stephen_Hawkinghttp://en.wikipedia.org/wiki/The_Real_Stephen_Hawkinghttp://en.wikipedia.org/wiki/The_Real_Stephen_Hawkinghttp://en.wikipedia.org/wiki/The_Real_Stephen_Hawkinghttp://en.wikipedia.org/wiki/The_Real_Stephen_Hawkinghttp://en.wikipedia.org/wiki/The_Real_Stephen_Hawkinghttp://en.wikipedia.org/wiki/The_Real_Stephen_Hawkinghttp://en.wikipedia.org/wiki/The_Real_Stephen_Hawkinghttp://en.wikipedia.org/wiki/The_Real_Stephen_Hawking\n",
      "\n",
      "http://en.wikipedia.org/wiki/The_Real_Stephen_Hawking\n",
      "YOURE A FRREAKING JEW, AND PLEAZE COMMIT SUICIDE.\n",
      "AM GOING TO RAPE YOU IN THE ASS YOU FAT BITCH IN A WHEELCHAIRI AM GOING TO RAPE YOU IN THE ASS YOU FAT BITCH IN A WHEELCHAIRI AM GOING TO RAPE YOU IN THE ASS YOU FAT BITCH IN A WHEELCHAIRI AM GOING TO RAPE YOU IN THE ASS YOU FAT BITCH IN A WHEELCHAIRI AM GOING TO RAPE YOU IN THE ASS YOU FAT BITCH IN A WHEELCHAIRI AM GOING TO RAPE YOU IN THE ASS YOU FAT BITCH IN A WHEELCHAIRI AM GOING TO RAPE YOU IN THE ASS YOU FAT BITCH IN A WHEELCHAIRI AM GOING TO RAPE YOU IN THE ASS YOU FAT BITCH IN A WHEELCHAIRI AM GOING TO RAPE YOU IN THE ASS YOU FAT BITCH IN A WHEELCHAIRI AM GOING TO RAPE YOU IN THE ASS YOU FAT BITCH IN A WHEELCHAIRI AM GOING TO RAPE YOU IN THE ASS YOU FAT BITCH IN A WHEELCHAIRI AM GOING TO RAPE YOU IN THE ASS YOU FAT BITCH IN A WHEELCHAIRI AM GOING TO RAPE YOU IN THE ASS YOU FAT BITCH IN A WHEELCHAIR\n",
      "JEW \n",
      "\n",
      "Get the fuck out of here you jewish son of a bitch, I'll rape your fucking family if you don't leave you semite bastard. I will shoot you if you return, because you're a dirty semite, I hope you choke on a fucking bagel, prick. Shalom. We Came In?\n"
     ]
    }
   ],
   "source": [
    "for i in range(len(comments_all_1)):\n",
    "    print (comments_all_1.iloc[i,1])"
   ]
  },
  {
   "cell_type": "code",
   "execution_count": 32,
   "metadata": {},
   "outputs": [
    {
     "data": {
      "text/plain": [
       "'FUCK YOU!!!!!!!!!!!! YOU FUCKING NIGGER BAG OF SHIT I HOPE YOU DIE IN A HORRIBLE FIRE WITH YOUR GAY ASS KIDS I WILL SLIT THEIR THROAT YOU MOTHERFUCKER DONT YOU EVER THINK OF BANNING ME AGAIN OR I WILL RAPE YOU ANALLY!!!!!'"
      ]
     },
     "execution_count": 32,
     "metadata": {},
     "output_type": "execute_result"
    }
   ],
   "source": [
    "comments_all_1.iloc[7,1]"
   ]
  },
  {
   "cell_type": "code",
   "execution_count": null,
   "metadata": {
    "collapsed": true
   },
   "outputs": [],
   "source": []
  }
 ],
 "metadata": {
  "kernelspec": {
   "display_name": "Python 3",
   "language": "python",
   "name": "python3"
  },
  "language_info": {
   "codemirror_mode": {
    "name": "ipython",
    "version": 3
   },
   "file_extension": ".py",
   "mimetype": "text/x-python",
   "name": "python",
   "nbconvert_exporter": "python",
   "pygments_lexer": "ipython3",
   "version": "3.6.1"
  }
 },
 "nbformat": 4,
 "nbformat_minor": 2
}
