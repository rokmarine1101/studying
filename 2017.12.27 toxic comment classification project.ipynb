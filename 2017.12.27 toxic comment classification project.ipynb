{
 "cells": [
  {
   "cell_type": "code",
   "execution_count": 143,
   "metadata": {
    "collapsed": true
   },
   "outputs": [],
   "source": [
    "import pandas as pd\n",
    "from matplotlib import pyplot as plt\n",
    "import seaborn as sns\n",
    "% matplotlib inline"
   ]
  },
  {
   "cell_type": "code",
   "execution_count": 162,
   "metadata": {
    "collapsed": true
   },
   "outputs": [],
   "source": [
    "train = pd.read_csv('train.csv')"
   ]
  },
  {
   "cell_type": "code",
   "execution_count": 155,
   "metadata": {},
   "outputs": [
    {
     "data": {
      "text/html": [
       "<div>\n",
       "<style>\n",
       "    .dataframe thead tr:only-child th {\n",
       "        text-align: right;\n",
       "    }\n",
       "\n",
       "    .dataframe thead th {\n",
       "        text-align: left;\n",
       "    }\n",
       "\n",
       "    .dataframe tbody tr th {\n",
       "        vertical-align: top;\n",
       "    }\n",
       "</style>\n",
       "<table border=\"1\" class=\"dataframe\">\n",
       "  <thead>\n",
       "    <tr style=\"text-align: right;\">\n",
       "      <th></th>\n",
       "      <th>id</th>\n",
       "      <th>comment_text</th>\n",
       "      <th>toxic</th>\n",
       "      <th>severe_toxic</th>\n",
       "      <th>obscene</th>\n",
       "      <th>threat</th>\n",
       "      <th>insult</th>\n",
       "      <th>identity_hate</th>\n",
       "    </tr>\n",
       "  </thead>\n",
       "  <tbody>\n",
       "    <tr>\n",
       "      <th>0</th>\n",
       "      <td>22256635</td>\n",
       "      <td>Nonsense?  kiss off, geek. what I said is true...</td>\n",
       "      <td>1</td>\n",
       "      <td>0</td>\n",
       "      <td>0</td>\n",
       "      <td>0</td>\n",
       "      <td>0</td>\n",
       "      <td>0</td>\n",
       "    </tr>\n",
       "    <tr>\n",
       "      <th>1</th>\n",
       "      <td>27450690</td>\n",
       "      <td>\"\\n\\n Please do not vandalize pages, as you di...</td>\n",
       "      <td>0</td>\n",
       "      <td>0</td>\n",
       "      <td>0</td>\n",
       "      <td>0</td>\n",
       "      <td>0</td>\n",
       "      <td>0</td>\n",
       "    </tr>\n",
       "    <tr>\n",
       "      <th>2</th>\n",
       "      <td>54037174</td>\n",
       "      <td>\"\\n\\n \"\"Points of interest\"\" \\n\\nI removed the...</td>\n",
       "      <td>0</td>\n",
       "      <td>0</td>\n",
       "      <td>0</td>\n",
       "      <td>0</td>\n",
       "      <td>0</td>\n",
       "      <td>0</td>\n",
       "    </tr>\n",
       "    <tr>\n",
       "      <th>3</th>\n",
       "      <td>77493077</td>\n",
       "      <td>Asking some his nationality is a Racial offenc...</td>\n",
       "      <td>0</td>\n",
       "      <td>0</td>\n",
       "      <td>0</td>\n",
       "      <td>0</td>\n",
       "      <td>0</td>\n",
       "      <td>0</td>\n",
       "    </tr>\n",
       "    <tr>\n",
       "      <th>4</th>\n",
       "      <td>79357270</td>\n",
       "      <td>The reader here is not going by my say so for ...</td>\n",
       "      <td>0</td>\n",
       "      <td>0</td>\n",
       "      <td>0</td>\n",
       "      <td>0</td>\n",
       "      <td>0</td>\n",
       "      <td>0</td>\n",
       "    </tr>\n",
       "  </tbody>\n",
       "</table>\n",
       "</div>"
      ],
      "text/plain": [
       "         id                                       comment_text  toxic  \\\n",
       "0  22256635  Nonsense?  kiss off, geek. what I said is true...      1   \n",
       "1  27450690  \"\\n\\n Please do not vandalize pages, as you di...      0   \n",
       "2  54037174  \"\\n\\n \"\"Points of interest\"\" \\n\\nI removed the...      0   \n",
       "3  77493077  Asking some his nationality is a Racial offenc...      0   \n",
       "4  79357270  The reader here is not going by my say so for ...      0   \n",
       "\n",
       "   severe_toxic  obscene  threat  insult  identity_hate  \n",
       "0             0        0       0       0              0  \n",
       "1             0        0       0       0              0  \n",
       "2             0        0       0       0              0  \n",
       "3             0        0       0       0              0  \n",
       "4             0        0       0       0              0  "
      ]
     },
     "execution_count": 155,
     "metadata": {},
     "output_type": "execute_result"
    }
   ],
   "source": [
    "train.head()"
   ]
  },
  {
   "cell_type": "code",
   "execution_count": 156,
   "metadata": {
    "collapsed": true
   },
   "outputs": [],
   "source": [
    "toxic = train['toxic']\n",
    "severe_toxic = train['severe_toxic']\n",
    "obscene = train['obscene']\n",
    "threat = train['threat']\n",
    "insult = train['insult']\n",
    "identity_hate = train['identity_hate']\n"
   ]
  },
  {
   "cell_type": "code",
   "execution_count": 157,
   "metadata": {},
   "outputs": [
    {
     "name": "stdout",
     "output_type": "stream",
     "text": [
      "toxic = 9237\n",
      "not toxic = 86614\n",
      "toxic rate = 9.64%\n"
     ]
    },
    {
     "data": {
      "image/png": "[encoded data removed]",
      "text/plain": [
       "<matplotlib.figure.Figure at 0x109fcd5c0>"
      ]
     },
     "metadata": {},
     "output_type": "display_data"
    },
    {
     "name": "stdout",
     "output_type": "stream",
     "text": [
      "severe_toxic = 965\n",
      "not severe_toxic = 94886\n",
      "severe_toxic rate = 1.01%\n"
     ]
    },
    {
     "data": {
      "image/png": "[encoded data removed]",
      "text/plain": [
       "<matplotlib.figure.Figure at 0x1012d9588>"
      ]
     },
     "metadata": {},
     "output_type": "display_data"
    },
    {
     "name": "stdout",
     "output_type": "stream",
     "text": [
      "obscene = 5109\n",
      "not obscene = 90742\n",
      "obscene rate = 5.33%\n"
     ]
    },
    {
     "data": {
      "image/png": "[encoded data removed]",
      "text/plain": [
       "<matplotlib.figure.Figure at 0x10a09bcc0>"
      ]
     },
     "metadata": {},
     "output_type": "display_data"
    },
    {
     "name": "stdout",
     "output_type": "stream",
     "text": [
      "threat =305\n",
      "not threat =95546\n",
      "threat rate = 0.32%\n"
     ]
    },
    {
     "data": {
      "image/png": "[encoded data removed]",
      "text/plain": [
       "<matplotlib.figure.Figure at 0x1091cfda0>"
      ]
     },
     "metadata": {},
     "output_type": "display_data"
    },
    {
     "name": "stdout",
     "output_type": "stream",
     "text": [
      "insult = 4765\n",
      "not insult = 91086\n",
      "insult rate = 4.97%\n"
     ]
    },
    {
     "data": {
      "image/png": "[encoded data removed]",
      "text/plain": [
       "<matplotlib.figure.Figure at 0x109225b00>"
      ]
     },
     "metadata": {},
     "output_type": "display_data"
    },
    {
     "name": "stdout",
     "output_type": "stream",
     "text": [
      "identity_hate = 814\n",
      "not identity_hate = 95037\n",
      "identity_hate rate = 0.85%\n"
     ]
    },
    {
     "data": {
      "image/png": "[encoded data removed]",
      "text/plain": [
       "<matplotlib.figure.Figure at 0x10dde8470>"
      ]
     },
     "metadata": {},
     "output_type": "display_data"
    }
   ],
   "source": [
    "sns.countplot(toxic)\n",
    "print ('toxic = {}'.format(len(train[train['toxic']== 1])))\n",
    "print ('not toxic = {}'.format(len(train[train['toxic']== 0])))\n",
    "toxic_rate = len(train[train['toxic']== 1])/len(train)*100\n",
    "print ('toxic rate = {}%'.format(round(toxic_rate, 2)))\n",
    "plt.show()\n",
    "sns.countplot(severe_toxic)\n",
    "print ('severe_toxic = {}'.format(len(train[train['severe_toxic']== 1])))\n",
    "print ('not severe_toxic = {}'.format(len(train[train['severe_toxic']== 0])))\n",
    "severe_toxic_rate = len(train[train['severe_toxic']== 1])/len(train)*100\n",
    "print ('severe_toxic rate = {}%'.format(round(severe_toxic_rate, 2)))\n",
    "plt.show()\n",
    "sns.countplot(obscene)\n",
    "print ('obscene = {}'.format(len(train[train['obscene']== 1])))\n",
    "print ('not obscene = {}'.format(len(train[train['obscene']== 0])))\n",
    "obscene_rate = len(train[train['obscene']== 1])/len(train)*100\n",
    "print ('obscene rate = {}%'.format(round(obscene_rate, 2)))\n",
    "plt.show()\n",
    "sns.countplot(threat)\n",
    "print ('threat ={}'.format(len(train[train['threat']== 1])))\n",
    "print ('not threat ={}'.format(len(train[train['threat']== 0])))\n",
    "threat_rate = len(train[train['threat']== 1])/len(train)*100\n",
    "print ('threat rate = {}%'.format(round(threat_rate, 2)))\n",
    "plt.show()\n",
    "sns.countplot(insult)\n",
    "print ('insult = {}'.format(len(train[train['insult']== 1])))\n",
    "print ('not insult = {}'.format(len(train[train['insult']== 0])))\n",
    "insult_rate = len(train[train['insult']== 1])/len(train)*100\n",
    "print ('insult rate = {}%'.format(round(insult_rate, 2)))\n",
    "plt.show()\n",
    "sns.countplot(identity_hate)\n",
    "print ( 'identity_hate = {}'.format(len(train[train['identity_hate']== 1])))\n",
    "print ('not identity_hate = {}'.format(len(train[train['identity_hate']== 0])))\n",
    "identity_hate_rate = len(train[train['identity_hate']== 1])/len(train)*100\n",
    "print ('identity_hate rate = {}%'.format(round(identity_hate_rate, 2)))\n",
    "plt.show()"
   ]
  },
  {
   "cell_type": "code",
   "execution_count": 158,
   "metadata": {},
   "outputs": [
    {
     "name": "stdout",
     "output_type": "stream",
     "text": [
      "total number of clean commeants = 86061 out of 95851\n",
      "the rate for the comments that do not convey any harmful messages = 89.79%\n",
      "the rate for the comments that convey harmful messages = 10.21%\n"
     ]
    }
   ],
   "source": [
    "X = ['toxic','severe_toxic','obscene','threat','insult','identity_hate']\n",
    "clean_comments = train[train['toxic']==0]\n",
    "clean_comments = clean_comments[clean_comments['severe_toxic']==0]\n",
    "clean_comments = clean_comments[clean_comments['obscene']==0]\n",
    "clean_comments = clean_comments[clean_comments['threat']==0]\n",
    "clean_comments = clean_comments[clean_comments['insult']==0]\n",
    "clean_comments = clean_comments[clean_comments['identity_hate']==0]\n",
    "clean_comments_rate = len(clean_comments)/len(train)*100\n",
    "harmful_comments_rate = 100 -clean_comments_rate\n",
    "print ('total number of clean commeants = {} out of {}'.format(len(clean_comments), len(train)))\n",
    "print ('the rate for the comments that do not convey any harmful messages = {}%'.format(round(clean_comments_rate, 2)))\n",
    "print ('the rate for the comments that convey harmful messages = {}%'.format(round(harmful_comments_rate, 2)))"
   ]
  },
  {
   "cell_type": "code",
   "execution_count": 159,
   "metadata": {},
   "outputs": [
    {
     "name": "stdout",
     "output_type": "stream",
     "text": [
      "toxic rate is 9.64\n",
      "severe_toxic rate is 1.01\n",
      "obscene rate is 5.33\n",
      "threat rate is 0.32\n",
      "insult rate is 4.97\n",
      "identity_hate rate is 0.85\n",
      "------------------------------\n",
      "harmful_comments rate is 10.21\n",
      "clean_comments rate rate is 89.79\n"
     ]
    }
   ],
   "source": [
    "print ('toxic rate is %.2f'%toxic_rate)\n",
    "print ('severe_toxic rate is %.2f'%severe_toxic_rate)\n",
    "print ('obscene rate is %.2f'%obscene_rate)\n",
    "print ('threat rate is %.2f'%threat_rate)\n",
    "print ('insult rate is %.2f'%insult_rate)\n",
    "print ('identity_hate rate is %.2f'%identity_hate_rate)\n",
    "\n",
    "print ('-'*30)\n",
    "\n",
    "print ('harmful_comments rate is %.2f'%harmful_comments_rate)\n",
    "\n",
    "print ('clean_comments rate rate is %.2f'%clean_comments_rate)"
   ]
  },
  {
   "cell_type": "code",
   "execution_count": 183,
   "metadata": {
    "collapsed": true,
    "scrolled": true
   },
   "outputs": [],
   "source": [
    "# for i in clean_comments['id']:\n",
    "#     train = train[train.id != i]\n",
    "#     print ('{} is deleted'.format(i))\n",
    "            "
   ]
  },
  {
   "cell_type": "code",
   "execution_count": null,
   "metadata": {
    "collapsed": true
   },
   "outputs": [],
   "source": []
  },
  {
   "cell_type": "code",
   "execution_count": null,
   "metadata": {
    "collapsed": true
   },
   "outputs": [],
   "source": []
  },
  {
   "cell_type": "code",
   "execution_count": null,
   "metadata": {
    "collapsed": true
   },
   "outputs": [],
   "source": []
  },
  {
   "cell_type": "code",
   "execution_count": null,
   "metadata": {
    "collapsed": true
   },
   "outputs": [],
   "source": []
  }
 ],
 "metadata": {
  "kernelspec": {
   "display_name": "Python 3",
   "language": "python",
   "name": "python3"
  },
  "language_info": {
   "codemirror_mode": {
    "name": "ipython",
    "version": 3
   },
   "file_extension": ".py",
   "mimetype": "text/x-python",
   "name": "python",
   "nbconvert_exporter": "python",
   "pygments_lexer": "ipython3",
   "version": "3.6.1"
  }
 },
 "nbformat": 4,
 "nbformat_minor": 2
}
